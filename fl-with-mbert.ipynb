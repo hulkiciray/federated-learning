{
 "cells": [
  {
   "metadata": {},
   "cell_type": "markdown",
   "source": "## Imports",
   "id": "84d6956954cf7ed"
  },
  {
   "metadata": {
    "collapsed": true,
    "ExecuteTime": {
     "end_time": "2025-03-08T21:23:39.780066Z",
     "start_time": "2025-03-08T21:23:35.926956Z"
    }
   },
   "cell_type": "code",
   "source": [
    "from collections import OrderedDict\n",
    "from typing import List, Tuple\n",
    "\n",
    "import matplotlib.pyplot as plt\n",
    "import numpy as np\n",
    "import torch\n",
    "import torch.nn as nn\n",
    "import torch.nn.functional as F\n",
    "import torchvision.transforms as transforms\n",
    "from datasets.utils.logging import disable_progress_bar\n",
    "from torch.utils.data import DataLoader\n",
    "\n",
    "import flwr\n",
    "from flwr.client import Client, ClientApp, NumPyClient\n",
    "from flwr.common import Metrics, Context\n",
    "from flwr.server import ServerApp, ServerConfig, ServerAppComponents\n",
    "from flwr.server.strategy import FedAvg\n",
    "from flwr.simulation import run_simulation\n",
    "from flwr_datasets import FederatedDataset\n",
    "\n",
    "DEVICE = \"mps:0\" if torch.backends.mps.is_available() else \"cpu\"\n",
    "print(f\"Training on {DEVICE}\")\n",
    "print(f\"Flower {flwr.__version__} / PyTorch {torch.__version__}\")\n",
    "disable_progress_bar()"
   ],
   "id": "initial_id",
   "outputs": [
    {
     "name": "stdout",
     "output_type": "stream",
     "text": [
      "Training on mps:0\n",
      "Flower 1.15.2 / PyTorch 2.6.0\n"
     ]
    }
   ],
   "execution_count": 1
  },
  {
   "metadata": {},
   "cell_type": "markdown",
   "source": "## Data Preperation",
   "id": "88e765121c800a4f"
  },
  {
   "metadata": {
    "ExecuteTime": {
     "end_time": "2025-03-09T09:48:20.063943Z",
     "start_time": "2025-03-09T09:48:17.786695Z"
    }
   },
   "cell_type": "code",
   "source": [
    "from datasets import load_dataset\n",
    "\n",
    "# Login using e.g. `huggingface-cli login` to access this dataset\n",
    "ds = load_dataset(\"google/smol\", \"gatitos__en_aa\")"
   ],
   "id": "9cdeb99ff18b3970",
   "outputs": [],
   "execution_count": 14
  },
  {
   "metadata": {
    "ExecuteTime": {
     "end_time": "2025-03-09T09:44:51.400766Z",
     "start_time": "2025-03-09T09:44:51.397279Z"
    }
   },
   "cell_type": "code",
   "source": "ds",
   "id": "aa298d88bc11bf3",
   "outputs": [
    {
     "data": {
      "text/plain": [
       "DatasetDict({\n",
       "    train: Dataset({\n",
       "        features: ['src', 'trgs', 'sl', 'tl', 'is_source_orig'],\n",
       "        num_rows: 3990\n",
       "    })\n",
       "})"
      ]
     },
     "execution_count": 3,
     "metadata": {},
     "output_type": "execute_result"
    }
   ],
   "execution_count": 3
  },
  {
   "metadata": {
    "ExecuteTime": {
     "end_time": "2025-03-09T09:45:17.201285Z",
     "start_time": "2025-03-09T09:45:17.198739Z"
    }
   },
   "cell_type": "code",
   "source": "ds['train']",
   "id": "8afead6385baf8c3",
   "outputs": [
    {
     "data": {
      "text/plain": [
       "Dataset({\n",
       "    features: ['src', 'trgs', 'sl', 'tl', 'is_source_orig'],\n",
       "    num_rows: 3990\n",
       "})"
      ]
     },
     "execution_count": 5,
     "metadata": {},
     "output_type": "execute_result"
    }
   ],
   "execution_count": 5
  },
  {
   "metadata": {
    "ExecuteTime": {
     "end_time": "2025-03-09T09:46:30.826298Z",
     "start_time": "2025-03-09T09:46:30.822068Z"
    }
   },
   "cell_type": "code",
   "source": "ds['train'][0]['trgs']",
   "id": "d219292d86d246fd",
   "outputs": [
    {
     "data": {
      "text/plain": [
       "['Qafar']"
      ]
     },
     "execution_count": 12,
     "metadata": {},
     "output_type": "execute_result"
    }
   ],
   "execution_count": 12
  },
  {
   "metadata": {},
   "cell_type": "code",
   "outputs": [],
   "execution_count": null,
   "source": "",
   "id": "2eed30dd3b894d3"
  },
  {
   "metadata": {},
   "cell_type": "markdown",
   "source": "## Loading Model",
   "id": "aa0c7598d1775120"
  },
  {
   "metadata": {},
   "cell_type": "code",
   "outputs": [],
   "execution_count": null,
   "source": "",
   "id": "34d60112185f989b"
  },
  {
   "metadata": {},
   "cell_type": "markdown",
   "source": "## Client Settings",
   "id": "ddbfb19084b3bb46"
  },
  {
   "metadata": {},
   "cell_type": "code",
   "outputs": [],
   "execution_count": null,
   "source": "",
   "id": "740c74f62d22f1d0"
  },
  {
   "metadata": {},
   "cell_type": "markdown",
   "source": "## Server Settings",
   "id": "e6ac2185ebadbeca"
  },
  {
   "metadata": {},
   "cell_type": "code",
   "outputs": [],
   "execution_count": null,
   "source": "",
   "id": "2ef3c15b695d5b07"
  },
  {
   "metadata": {},
   "cell_type": "markdown",
   "source": "## FL Training",
   "id": "232ad8a4e57bd8ab"
  },
  {
   "metadata": {},
   "cell_type": "code",
   "outputs": [],
   "execution_count": null,
   "source": "",
   "id": "b75af5c7451dc0a5"
  }
 ],
 "metadata": {
  "kernelspec": {
   "display_name": "Python 3",
   "language": "python",
   "name": "python3"
  },
  "language_info": {
   "codemirror_mode": {
    "name": "ipython",
    "version": 2
   },
   "file_extension": ".py",
   "mimetype": "text/x-python",
   "name": "python",
   "nbconvert_exporter": "python",
   "pygments_lexer": "ipython2",
   "version": "2.7.6"
  }
 },
 "nbformat": 4,
 "nbformat_minor": 5
}
