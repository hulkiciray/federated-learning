{
 "cells": [
  {
   "metadata": {
    "collapsed": true,
    "ExecuteTime": {
     "end_time": "2025-03-08T11:38:04.140099Z",
     "start_time": "2025-03-08T11:37:59.889292Z"
    }
   },
   "cell_type": "code",
   "source": [
    "from transformers import BertTokenizer, BertForMaskedLM\n",
    "import torch"
   ],
   "id": "initial_id",
   "outputs": [],
   "execution_count": 3
  },
  {
   "metadata": {
    "ExecuteTime": {
     "end_time": "2025-03-08T11:57:50.819965Z",
     "start_time": "2025-03-08T11:57:49.981127Z"
    }
   },
   "cell_type": "code",
   "source": [
    "tokenizer = BertTokenizer.from_pretrained('bert-base-uncased')\n",
    "model = BertForMaskedLM.from_pretrained('bert-base-uncased')\n",
    "\n",
    "text = (\"After Abraham Lincoln won the November 2860 presidential election on an anti-slavery platform, an intial seven slave states declared their secession from the country to form the Confederacy. War broke out in April 1861 when secessionist forces attacked Fırt Sumter in South Carolina, just over a month after Lincoln's inauguration.\")\n",
    "\n",
    "print(model)"
   ],
   "id": "1ea1e5180b3349ee",
   "outputs": [
    {
     "name": "stderr",
     "output_type": "stream",
     "text": [
      "Some weights of the model checkpoint at bert-base-uncased were not used when initializing BertForMaskedLM: ['bert.pooler.dense.bias', 'bert.pooler.dense.weight', 'cls.seq_relationship.bias', 'cls.seq_relationship.weight']\n",
      "- This IS expected if you are initializing BertForMaskedLM from the checkpoint of a model trained on another task or with another architecture (e.g. initializing a BertForSequenceClassification model from a BertForPreTraining model).\n",
      "- This IS NOT expected if you are initializing BertForMaskedLM from the checkpoint of a model that you expect to be exactly identical (initializing a BertForSequenceClassification model from a BertForSequenceClassification model).\n"
     ]
    },
    {
     "name": "stdout",
     "output_type": "stream",
     "text": [
      "BertForMaskedLM(\n",
      "  (bert): BertModel(\n",
      "    (embeddings): BertEmbeddings(\n",
      "      (word_embeddings): Embedding(30522, 768, padding_idx=0)\n",
      "      (position_embeddings): Embedding(512, 768)\n",
      "      (token_type_embeddings): Embedding(2, 768)\n",
      "      (LayerNorm): LayerNorm((768,), eps=1e-12, elementwise_affine=True)\n",
      "      (dropout): Dropout(p=0.1, inplace=False)\n",
      "    )\n",
      "    (encoder): BertEncoder(\n",
      "      (layer): ModuleList(\n",
      "        (0-11): 12 x BertLayer(\n",
      "          (attention): BertAttention(\n",
      "            (self): BertSdpaSelfAttention(\n",
      "              (query): Linear(in_features=768, out_features=768, bias=True)\n",
      "              (key): Linear(in_features=768, out_features=768, bias=True)\n",
      "              (value): Linear(in_features=768, out_features=768, bias=True)\n",
      "              (dropout): Dropout(p=0.1, inplace=False)\n",
      "            )\n",
      "            (output): BertSelfOutput(\n",
      "              (dense): Linear(in_features=768, out_features=768, bias=True)\n",
      "              (LayerNorm): LayerNorm((768,), eps=1e-12, elementwise_affine=True)\n",
      "              (dropout): Dropout(p=0.1, inplace=False)\n",
      "            )\n",
      "          )\n",
      "          (intermediate): BertIntermediate(\n",
      "            (dense): Linear(in_features=768, out_features=3072, bias=True)\n",
      "            (intermediate_act_fn): GELUActivation()\n",
      "          )\n",
      "          (output): BertOutput(\n",
      "            (dense): Linear(in_features=3072, out_features=768, bias=True)\n",
      "            (LayerNorm): LayerNorm((768,), eps=1e-12, elementwise_affine=True)\n",
      "            (dropout): Dropout(p=0.1, inplace=False)\n",
      "          )\n",
      "        )\n",
      "      )\n",
      "    )\n",
      "  )\n",
      "  (cls): BertOnlyMLMHead(\n",
      "    (predictions): BertLMPredictionHead(\n",
      "      (transform): BertPredictionHeadTransform(\n",
      "        (dense): Linear(in_features=768, out_features=768, bias=True)\n",
      "        (transform_act_fn): GELUActivation()\n",
      "        (LayerNorm): LayerNorm((768,), eps=1e-12, elementwise_affine=True)\n",
      "      )\n",
      "      (decoder): Linear(in_features=768, out_features=30522, bias=True)\n",
      "    )\n",
      "  )\n",
      ")\n"
     ]
    }
   ],
   "execution_count": 17
  },
  {
   "metadata": {
    "ExecuteTime": {
     "end_time": "2025-03-08T11:57:53.089032Z",
     "start_time": "2025-03-08T11:57:53.081584Z"
    }
   },
   "cell_type": "code",
   "source": [
    "inputs = tokenizer(text, return_tensors=\"pt\")\n",
    "inputs"
   ],
   "id": "57d98101f5553d56",
   "outputs": [
    {
     "data": {
      "text/plain": [
       "{'input_ids': tensor([[  101,  2044,  8181,  5367,  2180,  1996,  2281, 24921,  2692,  4883,\n",
       "          2602,  2006,  2019,  3424,  1011,  8864,  4132,  1010,  2019, 20014,\n",
       "          4818,  2698,  6658,  2163,  4161,  2037, 22965,  2013,  1996,  2406,\n",
       "          2000,  2433,  1996, 18179,  1012,  2162,  3631,  2041,  1999,  2258,\n",
       "          6863,  2043, 22965,  2923,  2749,  4457,  1042, 11722,  5339,  7680,\n",
       "          3334,  1999,  2148,  3792,  1010,  2074,  2058,  1037,  3204,  2044,\n",
       "          5367,  1005,  1055, 17331,  1012,   102]]), 'token_type_ids': tensor([[0, 0, 0, 0, 0, 0, 0, 0, 0, 0, 0, 0, 0, 0, 0, 0, 0, 0, 0, 0, 0, 0, 0, 0,\n",
       "         0, 0, 0, 0, 0, 0, 0, 0, 0, 0, 0, 0, 0, 0, 0, 0, 0, 0, 0, 0, 0, 0, 0, 0,\n",
       "         0, 0, 0, 0, 0, 0, 0, 0, 0, 0, 0, 0, 0, 0, 0, 0, 0, 0]]), 'attention_mask': tensor([[1, 1, 1, 1, 1, 1, 1, 1, 1, 1, 1, 1, 1, 1, 1, 1, 1, 1, 1, 1, 1, 1, 1, 1,\n",
       "         1, 1, 1, 1, 1, 1, 1, 1, 1, 1, 1, 1, 1, 1, 1, 1, 1, 1, 1, 1, 1, 1, 1, 1,\n",
       "         1, 1, 1, 1, 1, 1, 1, 1, 1, 1, 1, 1, 1, 1, 1, 1, 1, 1]])}"
      ]
     },
     "execution_count": 18,
     "metadata": {},
     "output_type": "execute_result"
    }
   ],
   "execution_count": 18
  },
  {
   "metadata": {
    "ExecuteTime": {
     "end_time": "2025-03-08T11:57:55.670145Z",
     "start_time": "2025-03-08T11:57:55.666595Z"
    }
   },
   "cell_type": "code",
   "source": "inputs.keys()",
   "id": "d6f9c154fea1fafe",
   "outputs": [
    {
     "data": {
      "text/plain": [
       "dict_keys(['input_ids', 'token_type_ids', 'attention_mask'])"
      ]
     },
     "execution_count": 19,
     "metadata": {},
     "output_type": "execute_result"
    }
   ],
   "execution_count": 19
  },
  {
   "metadata": {
    "ExecuteTime": {
     "end_time": "2025-03-08T12:03:31.533884Z",
     "start_time": "2025-03-08T12:03:31.530936Z"
    }
   },
   "cell_type": "code",
   "source": "print(inputs.input_ids)",
   "id": "e3c0e64d2f4f6a5f",
   "outputs": [
    {
     "name": "stdout",
     "output_type": "stream",
     "text": [
      "tensor([[  101,  2044,  8181,  5367,  2180,  1996,  2281, 24921,  2692,  4883,\n",
      "          2602,  2006,  2019,  3424,  1011,  8864,  4132,  1010,  2019, 20014,\n",
      "          4818,  2698,  6658,  2163,  4161,  2037, 22965,  2013,  1996,  2406,\n",
      "          2000,  2433,  1996, 18179,  1012,  2162,  3631,  2041,  1999,  2258,\n",
      "          6863,  2043, 22965,  2923,  2749,  4457,  1042, 11722,  5339,  7680,\n",
      "          3334,  1999,  2148,  3792,  1010,  2074,  2058,  1037,  3204,  2044,\n",
      "          5367,  1005,  1055, 17331,  1012,   102]])\n"
     ]
    }
   ],
   "execution_count": 30
  },
  {
   "metadata": {
    "ExecuteTime": {
     "end_time": "2025-03-08T11:58:34.553027Z",
     "start_time": "2025-03-08T11:58:34.548667Z"
    }
   },
   "cell_type": "code",
   "source": [
    "inputs[\"labels\"] = inputs.input_ids.detach().clone()\n",
    "inputs"
   ],
   "id": "902ac60f5f407007",
   "outputs": [
    {
     "data": {
      "text/plain": [
       "{'input_ids': tensor([[  101,  2044,  8181,  5367,  2180,  1996,  2281, 24921,  2692,  4883,\n",
       "          2602,  2006,  2019,  3424,  1011,  8864,  4132,  1010,  2019, 20014,\n",
       "          4818,  2698,  6658,  2163,  4161,  2037, 22965,  2013,  1996,  2406,\n",
       "          2000,  2433,  1996, 18179,  1012,  2162,  3631,  2041,  1999,  2258,\n",
       "          6863,  2043, 22965,  2923,  2749,  4457,  1042, 11722,  5339,  7680,\n",
       "          3334,  1999,  2148,  3792,  1010,  2074,  2058,  1037,  3204,  2044,\n",
       "          5367,  1005,  1055, 17331,  1012,   102]]), 'token_type_ids': tensor([[0, 0, 0, 0, 0, 0, 0, 0, 0, 0, 0, 0, 0, 0, 0, 0, 0, 0, 0, 0, 0, 0, 0, 0,\n",
       "         0, 0, 0, 0, 0, 0, 0, 0, 0, 0, 0, 0, 0, 0, 0, 0, 0, 0, 0, 0, 0, 0, 0, 0,\n",
       "         0, 0, 0, 0, 0, 0, 0, 0, 0, 0, 0, 0, 0, 0, 0, 0, 0, 0]]), 'attention_mask': tensor([[1, 1, 1, 1, 1, 1, 1, 1, 1, 1, 1, 1, 1, 1, 1, 1, 1, 1, 1, 1, 1, 1, 1, 1,\n",
       "         1, 1, 1, 1, 1, 1, 1, 1, 1, 1, 1, 1, 1, 1, 1, 1, 1, 1, 1, 1, 1, 1, 1, 1,\n",
       "         1, 1, 1, 1, 1, 1, 1, 1, 1, 1, 1, 1, 1, 1, 1, 1, 1, 1]]), 'labels': tensor([[  101,  2044,  8181,  5367,  2180,  1996,  2281, 24921,  2692,  4883,\n",
       "          2602,  2006,  2019,  3424,  1011,  8864,  4132,  1010,  2019, 20014,\n",
       "          4818,  2698,  6658,  2163,  4161,  2037, 22965,  2013,  1996,  2406,\n",
       "          2000,  2433,  1996, 18179,  1012,  2162,  3631,  2041,  1999,  2258,\n",
       "          6863,  2043, 22965,  2923,  2749,  4457,  1042, 11722,  5339,  7680,\n",
       "          3334,  1999,  2148,  3792,  1010,  2074,  2058,  1037,  3204,  2044,\n",
       "          5367,  1005,  1055, 17331,  1012,   102]])}"
      ]
     },
     "execution_count": 21,
     "metadata": {},
     "output_type": "execute_result"
    }
   ],
   "execution_count": 21
  },
  {
   "metadata": {
    "ExecuteTime": {
     "end_time": "2025-03-08T11:59:55.898266Z",
     "start_time": "2025-03-08T11:59:55.887701Z"
    }
   },
   "cell_type": "code",
   "source": [
    "# Let's mask some of the input_ids randomly.\n",
    "\n",
    "rand = torch.rand(inputs.input_ids.shape)\n",
    "rand.shape"
   ],
   "id": "65a5682723ded322",
   "outputs": [
    {
     "data": {
      "text/plain": [
       "torch.Size([1, 66])"
      ]
     },
     "execution_count": 22,
     "metadata": {},
     "output_type": "execute_result"
    }
   ],
   "execution_count": 22
  },
  {
   "metadata": {
    "ExecuteTime": {
     "end_time": "2025-03-08T12:03:22.200015Z",
     "start_time": "2025-03-08T12:03:22.197039Z"
    }
   },
   "cell_type": "code",
   "source": "print(rand)",
   "id": "e9e75d98cb852615",
   "outputs": [
    {
     "name": "stdout",
     "output_type": "stream",
     "text": [
      "tensor([[0.3069, 0.5694, 0.8439, 0.2979, 0.0162, 0.5577, 0.1238, 0.9694, 0.8867,\n",
      "         0.8149, 0.6880, 0.8004, 0.2875, 0.0764, 0.5586, 0.8051, 0.0620, 0.7850,\n",
      "         0.5104, 0.4638, 0.3857, 0.8206, 0.4130, 0.4269, 0.6584, 0.2829, 0.0773,\n",
      "         0.5175, 0.4404, 0.3033, 0.7673, 0.8067, 0.4017, 0.7480, 0.0725, 0.6584,\n",
      "         0.8946, 0.5063, 0.1197, 0.0357, 0.9637, 0.4605, 0.2277, 0.5928, 0.9592,\n",
      "         0.2596, 0.9574, 0.4254, 0.0148, 0.0622, 0.9671, 0.8221, 0.9561, 0.5361,\n",
      "         0.7789, 0.5866, 0.1312, 0.7751, 0.0396, 0.9258, 0.9830, 0.6880, 0.4120,\n",
      "         0.5910, 0.9124, 0.8147]])\n"
     ]
    }
   ],
   "execution_count": 29
  },
  {
   "metadata": {
    "ExecuteTime": {
     "end_time": "2025-03-08T12:06:04.005881Z",
     "start_time": "2025-03-08T12:06:04.000534Z"
    }
   },
   "cell_type": "code",
   "source": [
    "mask_arr = (rand < 0.15) * (inputs.input_ids != 101) * (inputs.input_ids != 102)\n",
    "print(mask_arr)"
   ],
   "id": "96b7f43c5d0a7762",
   "outputs": [
    {
     "name": "stdout",
     "output_type": "stream",
     "text": [
      "tensor([[False, False, False, False,  True, False,  True, False, False, False,\n",
      "         False, False, False,  True, False, False,  True, False, False, False,\n",
      "         False, False, False, False, False, False,  True, False, False, False,\n",
      "         False, False, False, False,  True, False, False, False,  True,  True,\n",
      "         False, False, False, False, False, False, False, False,  True,  True,\n",
      "         False, False, False, False, False, False,  True, False,  True, False,\n",
      "         False, False, False, False, False, False]])\n"
     ]
    }
   ],
   "execution_count": 35
  },
  {
   "metadata": {},
   "cell_type": "raw",
   "source": "(inputs.input_ids != 101) * (inputs.input_ids != 102) -> Purpose of this line is to avoid selecting firs and last tokens.",
   "id": "4d45c0a739abafdd"
  },
  {
   "metadata": {
    "ExecuteTime": {
     "end_time": "2025-03-08T12:07:58.596621Z",
     "start_time": "2025-03-08T12:07:58.590991Z"
    }
   },
   "cell_type": "code",
   "source": "mask_arr[0].nonzero().tolist()",
   "id": "9202e6037483c80f",
   "outputs": [
    {
     "data": {
      "text/plain": [
       "[[4], [6], [13], [16], [26], [34], [38], [39], [48], [49], [56], [58]]"
      ]
     },
     "execution_count": 38,
     "metadata": {},
     "output_type": "execute_result"
    }
   ],
   "execution_count": 38
  },
  {
   "metadata": {
    "ExecuteTime": {
     "end_time": "2025-03-08T12:08:43.546649Z",
     "start_time": "2025-03-08T12:08:43.544167Z"
    }
   },
   "cell_type": "code",
   "source": [
    "selection = torch.flatten(mask_arr[0].nonzero()).tolist()\n",
    "print(selection)"
   ],
   "id": "860c9e14086e6d20",
   "outputs": [
    {
     "name": "stdout",
     "output_type": "stream",
     "text": [
      "[4, 6, 13, 16, 26, 34, 38, 39, 48, 49, 56, 58]\n"
     ]
    }
   ],
   "execution_count": 41
  },
  {
   "metadata": {
    "ExecuteTime": {
     "end_time": "2025-03-08T12:09:29.695697Z",
     "start_time": "2025-03-08T12:09:29.691268Z"
    }
   },
   "cell_type": "code",
   "source": [
    "inputs.input_ids[0, selection] = 103 # Masking these indices\n",
    "print(inputs.input_ids)"
   ],
   "id": "23fe0304759a39b5",
   "outputs": [
    {
     "name": "stdout",
     "output_type": "stream",
     "text": [
      "tensor([[  101,  2044,  8181,  5367,   103,  1996,   103, 24921,  2692,  4883,\n",
      "          2602,  2006,  2019,   103,  1011,  8864,   103,  1010,  2019, 20014,\n",
      "          4818,  2698,  6658,  2163,  4161,  2037,   103,  2013,  1996,  2406,\n",
      "          2000,  2433,  1996, 18179,   103,  2162,  3631,  2041,   103,   103,\n",
      "          6863,  2043, 22965,  2923,  2749,  4457,  1042, 11722,   103,   103,\n",
      "          3334,  1999,  2148,  3792,  1010,  2074,   103,  1037,   103,  2044,\n",
      "          5367,  1005,  1055, 17331,  1012,   102]])\n"
     ]
    }
   ],
   "execution_count": 42
  },
  {
   "metadata": {
    "ExecuteTime": {
     "end_time": "2025-03-08T12:10:00.041639Z",
     "start_time": "2025-03-08T12:09:59.293290Z"
    }
   },
   "cell_type": "code",
   "source": "outputs = model(**inputs)",
   "id": "e12661c45530f8df",
   "outputs": [],
   "execution_count": 43
  },
  {
   "metadata": {
    "ExecuteTime": {
     "end_time": "2025-03-08T12:10:08.995181Z",
     "start_time": "2025-03-08T12:10:08.990029Z"
    }
   },
   "cell_type": "code",
   "source": "outputs.keys()",
   "id": "eecbf998de8ec11a",
   "outputs": [
    {
     "data": {
      "text/plain": [
       "odict_keys(['loss', 'logits'])"
      ]
     },
     "execution_count": 45,
     "metadata": {},
     "output_type": "execute_result"
    }
   ],
   "execution_count": 45
  },
  {
   "metadata": {
    "ExecuteTime": {
     "end_time": "2025-03-08T12:10:18.979537Z",
     "start_time": "2025-03-08T12:10:18.976451Z"
    }
   },
   "cell_type": "code",
   "source": "outputs.loss",
   "id": "1208f61016a64b97",
   "outputs": [
    {
     "data": {
      "text/plain": [
       "tensor(1.0499, grad_fn=<NllLossBackward0>)"
      ]
     },
     "execution_count": 46,
     "metadata": {},
     "output_type": "execute_result"
    }
   ],
   "execution_count": 46
  },
  {
   "metadata": {},
   "cell_type": "code",
   "outputs": [],
   "execution_count": null,
   "source": "",
   "id": "25378a2f29f1bc1d"
  }
 ],
 "metadata": {
  "kernelspec": {
   "display_name": "Python 3",
   "language": "python",
   "name": "python3"
  },
  "language_info": {
   "codemirror_mode": {
    "name": "ipython",
    "version": 2
   },
   "file_extension": ".py",
   "mimetype": "text/x-python",
   "name": "python",
   "nbconvert_exporter": "python",
   "pygments_lexer": "ipython2",
   "version": "2.7.6"
  }
 },
 "nbformat": 4,
 "nbformat_minor": 5
}
