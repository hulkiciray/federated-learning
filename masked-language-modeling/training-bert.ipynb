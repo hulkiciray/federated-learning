{
 "cells": [
  {
   "cell_type": "code",
   "id": "initial_id",
   "metadata": {
    "collapsed": true,
    "ExecuteTime": {
     "end_time": "2025-03-08T12:19:27.916203Z",
     "start_time": "2025-03-08T12:19:27.912808Z"
    }
   },
   "source": [
    "import tqdm as notebook_tqdm\n",
    "from transformers import BertTokenizer, BertForMaskedLM\n",
    "import torch"
   ],
   "outputs": [],
   "execution_count": 2
  },
  {
   "metadata": {
    "ExecuteTime": {
     "end_time": "2025-03-08T12:19:52.324718Z",
     "start_time": "2025-03-08T12:19:51.455632Z"
    }
   },
   "cell_type": "code",
   "source": [
    "tokenizer = BertTokenizer.from_pretrained('bert-base-uncased')\n",
    "model = BertForMaskedLM.from_pretrained('bert-base-uncased')"
   ],
   "id": "f346de68ef372920",
   "outputs": [
    {
     "name": "stderr",
     "output_type": "stream",
     "text": [
      "Some weights of the model checkpoint at bert-base-uncased were not used when initializing BertForMaskedLM: ['bert.pooler.dense.bias', 'bert.pooler.dense.weight', 'cls.seq_relationship.bias', 'cls.seq_relationship.weight']\n",
      "- This IS expected if you are initializing BertForMaskedLM from the checkpoint of a model trained on another task or with another architecture (e.g. initializing a BertForSequenceClassification model from a BertForPreTraining model).\n",
      "- This IS NOT expected if you are initializing BertForMaskedLM from the checkpoint of a model that you expect to be exactly identical (initializing a BertForSequenceClassification model from a BertForSequenceClassification model).\n"
     ]
    }
   ],
   "execution_count": 3
  },
  {
   "metadata": {
    "ExecuteTime": {
     "end_time": "2025-03-08T12:22:35.867432Z",
     "start_time": "2025-03-08T12:22:35.860607Z"
    }
   },
   "cell_type": "code",
   "source": [
    "with open(\"data/clean.txt\", \"r\") as f:\n",
    "    text = f.read().split(\"\\n\")"
   ],
   "id": "a0ec9d26c0eb7163",
   "outputs": [],
   "execution_count": 4
  },
  {
   "metadata": {
    "ExecuteTime": {
     "end_time": "2025-03-08T12:22:54.232922Z",
     "start_time": "2025-03-08T12:22:54.228031Z"
    }
   },
   "cell_type": "code",
   "source": "text[:5]",
   "id": "1c6807241e6ed530",
   "outputs": [
    {
     "data": {
      "text/plain": [
       "['From my grandfather Verus I learned good morals and the government of my temper.',\n",
       " 'From the reputation and remembrance of my father, modesty and a manly character.',\n",
       " 'From my mother, piety and beneficence, and abstinence, not only from evil deeds, but even from evil thoughts; and further, simplicity in my way of living, far removed from the habits of the rich.',\n",
       " 'From my great-grandfather, not to have frequented public schools, and to have had good teachers at home, and to know that on such things a man should spend liberally.',\n",
       " \"From my governor, to be neither of the green nor of the blue party at the games in the Circus, nor a partizan either of the Parmularius or the Scutarius at the gladiators' fights; from him too I learned endurance of labour, and to want little, and to work with my own hands, and not to meddle with other people's affairs, and not to be ready to listen to slander.\"]"
      ]
     },
     "execution_count": 6,
     "metadata": {},
     "output_type": "execute_result"
    }
   ],
   "execution_count": 6
  },
  {
   "metadata": {
    "ExecuteTime": {
     "end_time": "2025-03-08T12:24:55.233410Z",
     "start_time": "2025-03-08T12:24:54.792597Z"
    }
   },
   "cell_type": "code",
   "source": "inputs = tokenizer(text, return_tensors=\"pt\", max_length= 512, truncation=True, padding=\"max_length\")",
   "id": "47f73b8617520fe2",
   "outputs": [],
   "execution_count": 13
  },
  {
   "metadata": {
    "ExecuteTime": {
     "end_time": "2025-03-08T12:25:01.949596Z",
     "start_time": "2025-03-08T12:25:01.944041Z"
    }
   },
   "cell_type": "code",
   "source": "inputs",
   "id": "5a0853fdfe957963",
   "outputs": [
    {
     "data": {
      "text/plain": [
       "{'input_ids': tensor([[  101,  2013,  2026,  ...,     0,     0,     0],\n",
       "        [  101,  2013,  1996,  ...,     0,     0,     0],\n",
       "        [  101,  2013,  2026,  ...,     0,     0,     0],\n",
       "        ...,\n",
       "        [  101,  3459,  2185,  ...,     0,     0,     0],\n",
       "        [  101,  2043, 15223,  ...,     0,     0,     0],\n",
       "        [  101,  7887,  3288,  ...,     0,     0,     0]]), 'token_type_ids': tensor([[0, 0, 0,  ..., 0, 0, 0],\n",
       "        [0, 0, 0,  ..., 0, 0, 0],\n",
       "        [0, 0, 0,  ..., 0, 0, 0],\n",
       "        ...,\n",
       "        [0, 0, 0,  ..., 0, 0, 0],\n",
       "        [0, 0, 0,  ..., 0, 0, 0],\n",
       "        [0, 0, 0,  ..., 0, 0, 0]]), 'attention_mask': tensor([[1, 1, 1,  ..., 0, 0, 0],\n",
       "        [1, 1, 1,  ..., 0, 0, 0],\n",
       "        [1, 1, 1,  ..., 0, 0, 0],\n",
       "        ...,\n",
       "        [1, 1, 1,  ..., 0, 0, 0],\n",
       "        [1, 1, 1,  ..., 0, 0, 0],\n",
       "        [1, 1, 1,  ..., 0, 0, 0]])}"
      ]
     },
     "execution_count": 14,
     "metadata": {},
     "output_type": "execute_result"
    }
   ],
   "execution_count": 14
  },
  {
   "metadata": {
    "ExecuteTime": {
     "end_time": "2025-03-08T12:28:01.934373Z",
     "start_time": "2025-03-08T12:28:01.931271Z"
    }
   },
   "cell_type": "code",
   "source": "len(inputs.input_ids)",
   "id": "28106f031313325f",
   "outputs": [
    {
     "data": {
      "text/plain": [
       "507"
      ]
     },
     "execution_count": 20,
     "metadata": {},
     "output_type": "execute_result"
    }
   ],
   "execution_count": 20
  },
  {
   "metadata": {},
   "cell_type": "raw",
   "source": "We do not care about \"token_type_ids\"",
   "id": "8b9ef04ae74160fb"
  },
  {
   "metadata": {
    "ExecuteTime": {
     "end_time": "2025-03-08T12:25:36.262068Z",
     "start_time": "2025-03-08T12:25:36.257258Z"
    }
   },
   "cell_type": "code",
   "source": "inputs.keys()",
   "id": "851565d6250fa73b",
   "outputs": [
    {
     "data": {
      "text/plain": [
       "dict_keys(['input_ids', 'token_type_ids', 'attention_mask'])"
      ]
     },
     "execution_count": 15,
     "metadata": {},
     "output_type": "execute_result"
    }
   ],
   "execution_count": 15
  },
  {
   "metadata": {
    "ExecuteTime": {
     "end_time": "2025-03-08T12:26:18.111758Z",
     "start_time": "2025-03-08T12:26:18.104846Z"
    }
   },
   "cell_type": "code",
   "source": [
    "inputs[\"labels\"] = inputs.input_ids.detach().clone()\n",
    "inputs"
   ],
   "id": "96158402ed68e030",
   "outputs": [
    {
     "data": {
      "text/plain": [
       "{'input_ids': tensor([[  101,  2013,  2026,  ...,     0,     0,     0],\n",
       "        [  101,  2013,  1996,  ...,     0,     0,     0],\n",
       "        [  101,  2013,  2026,  ...,     0,     0,     0],\n",
       "        ...,\n",
       "        [  101,  3459,  2185,  ...,     0,     0,     0],\n",
       "        [  101,  2043, 15223,  ...,     0,     0,     0],\n",
       "        [  101,  7887,  3288,  ...,     0,     0,     0]]), 'token_type_ids': tensor([[0, 0, 0,  ..., 0, 0, 0],\n",
       "        [0, 0, 0,  ..., 0, 0, 0],\n",
       "        [0, 0, 0,  ..., 0, 0, 0],\n",
       "        ...,\n",
       "        [0, 0, 0,  ..., 0, 0, 0],\n",
       "        [0, 0, 0,  ..., 0, 0, 0],\n",
       "        [0, 0, 0,  ..., 0, 0, 0]]), 'attention_mask': tensor([[1, 1, 1,  ..., 0, 0, 0],\n",
       "        [1, 1, 1,  ..., 0, 0, 0],\n",
       "        [1, 1, 1,  ..., 0, 0, 0],\n",
       "        ...,\n",
       "        [1, 1, 1,  ..., 0, 0, 0],\n",
       "        [1, 1, 1,  ..., 0, 0, 0],\n",
       "        [1, 1, 1,  ..., 0, 0, 0]]), 'labels': tensor([[  101,  2013,  2026,  ...,     0,     0,     0],\n",
       "        [  101,  2013,  1996,  ...,     0,     0,     0],\n",
       "        [  101,  2013,  2026,  ...,     0,     0,     0],\n",
       "        ...,\n",
       "        [  101,  3459,  2185,  ...,     0,     0,     0],\n",
       "        [  101,  2043, 15223,  ...,     0,     0,     0],\n",
       "        [  101,  7887,  3288,  ...,     0,     0,     0]])}"
      ]
     },
     "execution_count": 16,
     "metadata": {},
     "output_type": "execute_result"
    }
   ],
   "execution_count": 16
  },
  {
   "metadata": {
    "ExecuteTime": {
     "end_time": "2025-03-08T12:27:36.026346Z",
     "start_time": "2025-03-08T12:27:36.022349Z"
    }
   },
   "cell_type": "code",
   "source": "rand = torch.rand(inputs.input_ids.shape)",
   "id": "aad5e0ae3215692a",
   "outputs": [],
   "execution_count": 17
  },
  {
   "metadata": {
    "ExecuteTime": {
     "end_time": "2025-03-08T12:27:39.250101Z",
     "start_time": "2025-03-08T12:27:39.248017Z"
    }
   },
   "cell_type": "code",
   "source": "rand.shape",
   "id": "a792da78a1b43cc1",
   "outputs": [
    {
     "data": {
      "text/plain": [
       "torch.Size([507, 512])"
      ]
     },
     "execution_count": 18,
     "metadata": {},
     "output_type": "execute_result"
    }
   ],
   "execution_count": 18
  },
  {
   "metadata": {
    "ExecuteTime": {
     "end_time": "2025-03-08T12:28:28.000653Z",
     "start_time": "2025-03-08T12:28:27.997727Z"
    }
   },
   "cell_type": "code",
   "source": "print(rand)",
   "id": "4556d4c3a96e08e4",
   "outputs": [
    {
     "name": "stdout",
     "output_type": "stream",
     "text": [
      "tensor([[0.8614, 0.7102, 0.2016,  ..., 0.5768, 0.3122, 0.6275],\n",
      "        [0.9690, 0.6831, 0.9144,  ..., 0.1493, 0.7140, 0.4014],\n",
      "        [0.7659, 0.0166, 0.5211,  ..., 0.2179, 0.6845, 0.8590],\n",
      "        ...,\n",
      "        [0.3742, 0.0578, 0.4931,  ..., 0.6678, 0.0733, 0.2863],\n",
      "        [0.2022, 0.6561, 0.5194,  ..., 0.5590, 0.7457, 0.4955],\n",
      "        [0.9550, 0.6906, 0.6951,  ..., 0.9745, 0.1393, 0.0126]])\n"
     ]
    }
   ],
   "execution_count": 22
  },
  {
   "metadata": {
    "ExecuteTime": {
     "end_time": "2025-03-08T12:31:20.456624Z",
     "start_time": "2025-03-08T12:31:20.450783Z"
    }
   },
   "cell_type": "code",
   "source": [
    "mask_arr = (rand < 0.15) * (inputs.input_ids != 101) * (inputs.input_ids != 102) * (inputs.input_ids != 0)\n",
    "print(mask_arr)"
   ],
   "id": "23397b6bdc00293",
   "outputs": [
    {
     "name": "stdout",
     "output_type": "stream",
     "text": [
      "tensor([[False, False, False,  ..., False, False, False],\n",
      "        [False, False, False,  ..., False, False, False],\n",
      "        [False,  True, False,  ..., False, False, False],\n",
      "        ...,\n",
      "        [False,  True, False,  ..., False, False, False],\n",
      "        [False, False, False,  ..., False, False, False],\n",
      "        [False, False, False,  ..., False, False, False]])\n"
     ]
    }
   ],
   "execution_count": 28
  },
  {
   "metadata": {
    "ExecuteTime": {
     "end_time": "2025-03-08T12:30:08.642889Z",
     "start_time": "2025-03-08T12:30:08.640346Z"
    }
   },
   "cell_type": "code",
   "source": "print(inputs.input_ids)",
   "id": "e7580e92f36765e7",
   "outputs": [
    {
     "name": "stdout",
     "output_type": "stream",
     "text": [
      "tensor([[  101,  2013,  2026,  ...,     0,     0,     0],\n",
      "        [  101,  2013,  1996,  ...,     0,     0,     0],\n",
      "        [  101,  2013,  2026,  ...,     0,     0,     0],\n",
      "        ...,\n",
      "        [  101,  3459,  2185,  ...,     0,     0,     0],\n",
      "        [  101,  2043, 15223,  ...,     0,     0,     0],\n",
      "        [  101,  7887,  3288,  ...,     0,     0,     0]])\n"
     ]
    }
   ],
   "execution_count": 25
  },
  {
   "metadata": {
    "ExecuteTime": {
     "end_time": "2025-03-08T12:34:50.832952Z",
     "start_time": "2025-03-08T12:34:50.828513Z"
    }
   },
   "cell_type": "code",
   "source": [
    "selection = []\n",
    "for i in range(mask_arr.shape[0]):\n",
    "    selection.append(\n",
    "    torch.flatten(mask_arr[i].nonzero()).tolist()\n",
    "    )"
   ],
   "id": "db6af68f7f4f766a",
   "outputs": [],
   "execution_count": 34
  },
  {
   "metadata": {
    "ExecuteTime": {
     "end_time": "2025-03-08T12:34:57.159834Z",
     "start_time": "2025-03-08T12:34:57.156832Z"
    }
   },
   "cell_type": "code",
   "source": "selection[:5]",
   "id": "3d01a2202303edb8",
   "outputs": [
    {
     "data": {
      "text/plain": [
       "[[3, 4],\n",
       " [5],\n",
       " [1, 12, 19, 22, 34, 47],\n",
       " [4, 15, 35],\n",
       " [1, 4, 8, 33, 36, 48, 49, 52, 57, 59, 72, 74, 76, 78]]"
      ]
     },
     "execution_count": 35,
     "metadata": {},
     "output_type": "execute_result"
    }
   ],
   "execution_count": 35
  },
  {
   "metadata": {},
   "cell_type": "raw",
   "source": "We find the masked indices in every line",
   "id": "1fd37b02dd3b8ea1"
  },
  {
   "metadata": {
    "ExecuteTime": {
     "end_time": "2025-03-08T12:35:54.880998Z",
     "start_time": "2025-03-08T12:35:54.873401Z"
    }
   },
   "cell_type": "code",
   "source": [
    "for i in range(mask_arr.shape[0]):\n",
    "    inputs.input_ids[i, selection[i]] = 103"
   ],
   "id": "423d5c24bf3c99e2",
   "outputs": [],
   "execution_count": 36
  },
  {
   "metadata": {
    "ExecuteTime": {
     "end_time": "2025-03-08T12:36:11.789551Z",
     "start_time": "2025-03-08T12:36:11.786184Z"
    }
   },
   "cell_type": "code",
   "source": "print(inputs.input_ids)",
   "id": "d2b1d75095a0999",
   "outputs": [
    {
     "name": "stdout",
     "output_type": "stream",
     "text": [
      "tensor([[  101,  2013,  2026,  ...,     0,     0,     0],\n",
      "        [  101,  2013,  1996,  ...,     0,     0,     0],\n",
      "        [  101,   103,  2026,  ...,     0,     0,     0],\n",
      "        ...,\n",
      "        [  101,   103,  2185,  ...,     0,     0,     0],\n",
      "        [  101,  2043, 15223,  ...,     0,     0,     0],\n",
      "        [  101,  7887,  3288,  ...,     0,     0,     0]])\n"
     ]
    }
   ],
   "execution_count": 38
  },
  {
   "metadata": {
    "ExecuteTime": {
     "end_time": "2025-03-08T14:29:51.634012Z",
     "start_time": "2025-03-08T14:29:51.627721Z"
    }
   },
   "cell_type": "code",
   "source": [
    "class MeditationsDataset(torch.utils.data.Dataset):\n",
    "    def __init__(self, encodings):\n",
    "        self.encodings = encodings\n",
    "\n",
    "    def __getitem__(self, idx):\n",
    "        return {key: torch.tensor(val[idx]) for key, val in self.encodings.items()}\n",
    "\n",
    "    def __len__(self):\n",
    "        return len(self.encodings.input_ids)"
   ],
   "id": "38b961e60a72289d",
   "outputs": [],
   "execution_count": 39
  },
  {
   "metadata": {
    "ExecuteTime": {
     "end_time": "2025-03-08T14:30:23.869293Z",
     "start_time": "2025-03-08T14:30:23.867131Z"
    }
   },
   "cell_type": "code",
   "source": "dataset = MeditationsDataset(inputs)",
   "id": "89f7697163efd516",
   "outputs": [],
   "execution_count": 40
  },
  {
   "metadata": {
    "ExecuteTime": {
     "end_time": "2025-03-08T14:31:29.245608Z",
     "start_time": "2025-03-08T14:31:29.242589Z"
    }
   },
   "cell_type": "code",
   "source": "dataloader = torch.utils.data.DataLoader(dataset, batch_size=16, shuffle=True)",
   "id": "7d09d70b87a895df",
   "outputs": [],
   "execution_count": 41
  },
  {
   "metadata": {
    "ExecuteTime": {
     "end_time": "2025-03-08T14:32:10.137937Z",
     "start_time": "2025-03-08T14:32:10.112330Z"
    }
   },
   "cell_type": "code",
   "source": [
    "device = torch.device(\"mps\" if torch.backends.mps.is_available() else \"cpu\")\n",
    "print(device)"
   ],
   "id": "4a99267def24d6fe",
   "outputs": [
    {
     "name": "stdout",
     "output_type": "stream",
     "text": [
      "mps\n"
     ]
    }
   ],
   "execution_count": 42
  },
  {
   "metadata": {
    "ExecuteTime": {
     "end_time": "2025-03-08T14:32:40.917534Z",
     "start_time": "2025-03-08T14:32:40.471073Z"
    }
   },
   "cell_type": "code",
   "source": "model.to(device)",
   "id": "b9982f458b87468d",
   "outputs": [
    {
     "data": {
      "text/plain": [
       "BertForMaskedLM(\n",
       "  (bert): BertModel(\n",
       "    (embeddings): BertEmbeddings(\n",
       "      (word_embeddings): Embedding(30522, 768, padding_idx=0)\n",
       "      (position_embeddings): Embedding(512, 768)\n",
       "      (token_type_embeddings): Embedding(2, 768)\n",
       "      (LayerNorm): LayerNorm((768,), eps=1e-12, elementwise_affine=True)\n",
       "      (dropout): Dropout(p=0.1, inplace=False)\n",
       "    )\n",
       "    (encoder): BertEncoder(\n",
       "      (layer): ModuleList(\n",
       "        (0-11): 12 x BertLayer(\n",
       "          (attention): BertAttention(\n",
       "            (self): BertSdpaSelfAttention(\n",
       "              (query): Linear(in_features=768, out_features=768, bias=True)\n",
       "              (key): Linear(in_features=768, out_features=768, bias=True)\n",
       "              (value): Linear(in_features=768, out_features=768, bias=True)\n",
       "              (dropout): Dropout(p=0.1, inplace=False)\n",
       "            )\n",
       "            (output): BertSelfOutput(\n",
       "              (dense): Linear(in_features=768, out_features=768, bias=True)\n",
       "              (LayerNorm): LayerNorm((768,), eps=1e-12, elementwise_affine=True)\n",
       "              (dropout): Dropout(p=0.1, inplace=False)\n",
       "            )\n",
       "          )\n",
       "          (intermediate): BertIntermediate(\n",
       "            (dense): Linear(in_features=768, out_features=3072, bias=True)\n",
       "            (intermediate_act_fn): GELUActivation()\n",
       "          )\n",
       "          (output): BertOutput(\n",
       "            (dense): Linear(in_features=3072, out_features=768, bias=True)\n",
       "            (LayerNorm): LayerNorm((768,), eps=1e-12, elementwise_affine=True)\n",
       "            (dropout): Dropout(p=0.1, inplace=False)\n",
       "          )\n",
       "        )\n",
       "      )\n",
       "    )\n",
       "  )\n",
       "  (cls): BertOnlyMLMHead(\n",
       "    (predictions): BertLMPredictionHead(\n",
       "      (transform): BertPredictionHeadTransform(\n",
       "        (dense): Linear(in_features=768, out_features=768, bias=True)\n",
       "        (transform_act_fn): GELUActivation()\n",
       "        (LayerNorm): LayerNorm((768,), eps=1e-12, elementwise_affine=True)\n",
       "      )\n",
       "      (decoder): Linear(in_features=768, out_features=30522, bias=True)\n",
       "    )\n",
       "  )\n",
       ")"
      ]
     },
     "execution_count": 43,
     "metadata": {},
     "output_type": "execute_result"
    }
   ],
   "execution_count": 43
  },
  {
   "metadata": {
    "ExecuteTime": {
     "end_time": "2025-03-08T14:32:48.292680Z",
     "start_time": "2025-03-08T14:32:48.287521Z"
    }
   },
   "cell_type": "code",
   "source": "model.train()",
   "id": "f6dcface6904a045",
   "outputs": [
    {
     "data": {
      "text/plain": [
       "BertForMaskedLM(\n",
       "  (bert): BertModel(\n",
       "    (embeddings): BertEmbeddings(\n",
       "      (word_embeddings): Embedding(30522, 768, padding_idx=0)\n",
       "      (position_embeddings): Embedding(512, 768)\n",
       "      (token_type_embeddings): Embedding(2, 768)\n",
       "      (LayerNorm): LayerNorm((768,), eps=1e-12, elementwise_affine=True)\n",
       "      (dropout): Dropout(p=0.1, inplace=False)\n",
       "    )\n",
       "    (encoder): BertEncoder(\n",
       "      (layer): ModuleList(\n",
       "        (0-11): 12 x BertLayer(\n",
       "          (attention): BertAttention(\n",
       "            (self): BertSdpaSelfAttention(\n",
       "              (query): Linear(in_features=768, out_features=768, bias=True)\n",
       "              (key): Linear(in_features=768, out_features=768, bias=True)\n",
       "              (value): Linear(in_features=768, out_features=768, bias=True)\n",
       "              (dropout): Dropout(p=0.1, inplace=False)\n",
       "            )\n",
       "            (output): BertSelfOutput(\n",
       "              (dense): Linear(in_features=768, out_features=768, bias=True)\n",
       "              (LayerNorm): LayerNorm((768,), eps=1e-12, elementwise_affine=True)\n",
       "              (dropout): Dropout(p=0.1, inplace=False)\n",
       "            )\n",
       "          )\n",
       "          (intermediate): BertIntermediate(\n",
       "            (dense): Linear(in_features=768, out_features=3072, bias=True)\n",
       "            (intermediate_act_fn): GELUActivation()\n",
       "          )\n",
       "          (output): BertOutput(\n",
       "            (dense): Linear(in_features=3072, out_features=768, bias=True)\n",
       "            (LayerNorm): LayerNorm((768,), eps=1e-12, elementwise_affine=True)\n",
       "            (dropout): Dropout(p=0.1, inplace=False)\n",
       "          )\n",
       "        )\n",
       "      )\n",
       "    )\n",
       "  )\n",
       "  (cls): BertOnlyMLMHead(\n",
       "    (predictions): BertLMPredictionHead(\n",
       "      (transform): BertPredictionHeadTransform(\n",
       "        (dense): Linear(in_features=768, out_features=768, bias=True)\n",
       "        (transform_act_fn): GELUActivation()\n",
       "        (LayerNorm): LayerNorm((768,), eps=1e-12, elementwise_affine=True)\n",
       "      )\n",
       "      (decoder): Linear(in_features=768, out_features=30522, bias=True)\n",
       "    )\n",
       "  )\n",
       ")"
      ]
     },
     "execution_count": 44,
     "metadata": {},
     "output_type": "execute_result"
    }
   ],
   "execution_count": 44
  },
  {
   "metadata": {
    "ExecuteTime": {
     "end_time": "2025-03-08T14:33:20.639630Z",
     "start_time": "2025-03-08T14:33:20.629332Z"
    }
   },
   "cell_type": "code",
   "source": "from transformers import AdamW",
   "id": "aede082a3f8f16c",
   "outputs": [],
   "execution_count": 45
  },
  {
   "metadata": {
    "ExecuteTime": {
     "end_time": "2025-03-08T14:33:35.560854Z",
     "start_time": "2025-03-08T14:33:35.516592Z"
    }
   },
   "cell_type": "code",
   "source": "optim = AdamW(model.parameters(), lr=1e-5)",
   "id": "e01dfc5998ab7769",
   "outputs": [
    {
     "name": "stderr",
     "output_type": "stream",
     "text": [
      "/Users/hulkiciray/Library/Python/3.9/lib/python/site-packages/transformers/optimization.py:640: FutureWarning: This implementation of AdamW is deprecated and will be removed in a future version. Use the PyTorch implementation torch.optim.AdamW instead, or set `no_deprecation_warning=True` to disable this warning\n",
      "  warnings.warn(\n"
     ]
    }
   ],
   "execution_count": 46
  },
  {
   "metadata": {
    "ExecuteTime": {
     "end_time": "2025-03-08T15:45:12.875517Z",
     "start_time": "2025-03-08T14:57:23.349312Z"
    }
   },
   "cell_type": "code",
   "source": [
    "import logging\n",
    "epochs = 1\n",
    "torch.mps.set_per_process_memory_fraction(0.0)\n",
    "for epoch in notebook_tqdm.tqdm(range(epochs), desc=\"Epoch\"):\n",
    "    for batch in dataloader:\n",
    "        input_ids, labels = batch[\"input_ids\"].to(device), batch[\"labels\"].to(device)\n",
    "        attention_mask = batch[\"attention_mask\"].to(device) # MLM training detail *****\n",
    "        optim.zero_grad()\n",
    "        outputs = model(input_ids, attention_mask=attention_mask, labels=labels)\n",
    "        loss = outputs.loss\n",
    "        loss.backward()\n",
    "        optim.step()\n",
    "        logging.info(f\"Batch {batch} loss: {loss}\")"
   ],
   "id": "feb610cebcd0cf3a",
   "outputs": [
    {
     "name": "stderr",
     "output_type": "stream",
     "text": [
      "Epoch:   0%|          | 0/1 [00:00<?, ?it/s]/var/folders/_z/yxx5rmr57ln7c1ntrsvn0tpc0000gn/T/ipykernel_69408/2305117189.py:6: UserWarning: To copy construct from a tensor, it is recommended to use sourceTensor.clone().detach() or sourceTensor.clone().detach().requires_grad_(True), rather than torch.tensor(sourceTensor).\n",
      "  return {key: torch.tensor(val[idx]) for key, val in self.encodings.items()}\n",
      "Epoch: 100%|██████████| 1/1 [47:49<00:00, 2869.47s/it]\n"
     ]
    }
   ],
   "execution_count": 51
  },
  {
   "metadata": {
    "ExecuteTime": {
     "end_time": "2025-03-08T15:46:45.320897Z",
     "start_time": "2025-03-08T15:46:45.297088Z"
    }
   },
   "cell_type": "code",
   "source": "loss",
   "id": "50572e809907b568",
   "outputs": [
    {
     "data": {
      "text/plain": [
       "tensor(1.2505, device='mps:0', grad_fn=<NllLossBackward0>)"
      ]
     },
     "execution_count": 52,
     "metadata": {},
     "output_type": "execute_result"
    }
   ],
   "execution_count": 52
  },
  {
   "metadata": {
    "ExecuteTime": {
     "end_time": "2025-03-08T15:47:15.465783Z",
     "start_time": "2025-03-08T15:47:15.461684Z"
    }
   },
   "cell_type": "code",
   "source": "dataloader",
   "id": "b6a3d1316b9882d7",
   "outputs": [
    {
     "data": {
      "text/plain": [
       "<torch.utils.data.dataloader.DataLoader at 0x168cc3250>"
      ]
     },
     "execution_count": 55,
     "metadata": {},
     "output_type": "execute_result"
    }
   ],
   "execution_count": 55
  },
  {
   "metadata": {
    "ExecuteTime": {
     "end_time": "2025-03-08T15:48:39.760187Z",
     "start_time": "2025-03-08T15:48:39.752448Z"
    }
   },
   "cell_type": "code",
   "source": [
    "for i in dataloader:\n",
    "    print(i)\n",
    "    break"
   ],
   "id": "7bed89a4cc70d3c7",
   "outputs": [
    {
     "name": "stdout",
     "output_type": "stream",
     "text": [
      "{'input_ids': tensor([[ 101, 3114, 1998,  ...,    0,    0,    0],\n",
      "        [ 101, 2043, 1037,  ...,    0,    0,    0],\n",
      "        [ 101, 2043,  103,  ...,    0,    0,    0],\n",
      "        ...,\n",
      "        [ 101, 9998, 2102,  ...,    0,    0,    0],\n",
      "        [ 101, 2515, 6090,  ...,    0,    0,    0],\n",
      "        [ 101, 2477, 3209,  ...,    0,    0,    0]]), 'token_type_ids': tensor([[0, 0, 0,  ..., 0, 0, 0],\n",
      "        [0, 0, 0,  ..., 0, 0, 0],\n",
      "        [0, 0, 0,  ..., 0, 0, 0],\n",
      "        ...,\n",
      "        [0, 0, 0,  ..., 0, 0, 0],\n",
      "        [0, 0, 0,  ..., 0, 0, 0],\n",
      "        [0, 0, 0,  ..., 0, 0, 0]]), 'attention_mask': tensor([[1, 1, 1,  ..., 0, 0, 0],\n",
      "        [1, 1, 1,  ..., 0, 0, 0],\n",
      "        [1, 1, 1,  ..., 0, 0, 0],\n",
      "        ...,\n",
      "        [1, 1, 1,  ..., 0, 0, 0],\n",
      "        [1, 1, 1,  ..., 0, 0, 0],\n",
      "        [1, 1, 1,  ..., 0, 0, 0]]), 'labels': tensor([[  101,  3114,  1998,  ...,     0,     0,     0],\n",
      "        [  101,  2043,  1037,  ...,     0,     0,     0],\n",
      "        [  101,  2043, 15223,  ...,     0,     0,     0],\n",
      "        ...,\n",
      "        [  101,  9998,  2102,  ...,     0,     0,     0],\n",
      "        [  101,  2515,  6090,  ...,     0,     0,     0],\n",
      "        [  101,  2477,  3209,  ...,     0,     0,     0]])}\n"
     ]
    },
    {
     "name": "stderr",
     "output_type": "stream",
     "text": [
      "/var/folders/_z/yxx5rmr57ln7c1ntrsvn0tpc0000gn/T/ipykernel_69408/2305117189.py:6: UserWarning: To copy construct from a tensor, it is recommended to use sourceTensor.clone().detach() or sourceTensor.clone().detach().requires_grad_(True), rather than torch.tensor(sourceTensor).\n",
      "  return {key: torch.tensor(val[idx]) for key, val in self.encodings.items()}\n"
     ]
    }
   ],
   "execution_count": 62
  },
  {
   "metadata": {
    "ExecuteTime": {
     "end_time": "2025-03-08T15:48:56.226830Z",
     "start_time": "2025-03-08T15:48:56.224061Z"
    }
   },
   "cell_type": "code",
   "source": "i.keys()",
   "id": "f0e0df12bc95cc87",
   "outputs": [
    {
     "data": {
      "text/plain": [
       "dict_keys(['input_ids', 'token_type_ids', 'attention_mask', 'labels'])"
      ]
     },
     "execution_count": 63,
     "metadata": {},
     "output_type": "execute_result"
    }
   ],
   "execution_count": 63
  },
  {
   "metadata": {},
   "cell_type": "code",
   "outputs": [],
   "execution_count": null,
   "source": "",
   "id": "54dbec972b49c82b"
  }
 ],
 "metadata": {
  "kernelspec": {
   "display_name": "Python 3",
   "language": "python",
   "name": "python3"
  },
  "language_info": {
   "codemirror_mode": {
    "name": "ipython",
    "version": 2
   },
   "file_extension": ".py",
   "mimetype": "text/x-python",
   "name": "python",
   "nbconvert_exporter": "python",
   "pygments_lexer": "ipython2",
   "version": "2.7.6"
  }
 },
 "nbformat": 4,
 "nbformat_minor": 5
}
